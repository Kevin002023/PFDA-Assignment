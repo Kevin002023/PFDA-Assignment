{
 "cells": [
  {
   "cell_type": "markdown",
   "id": "fc0ec23d",
   "metadata": {},
   "source": [
    "# Assignment for Programming for Data Analysis"
   ]
  },
  {
   "cell_type": "markdown",
   "id": "08ba9d5d",
   "metadata": {},
   "source": [
    "Synthesize a data set of a real-world phenomenom and evaluate"
   ]
  },
  {
   "cell_type": "markdown",
   "id": "8405020f",
   "metadata": {},
   "source": [
    "Ideas\n",
    "\n",
    "- Insurance Claims (variables - age of driver, age of car, motoring convictions, number of accidents in life, liklihood of having a claim in the last year.)\n",
    "- Something with sports (Number of goals scored in a season, number of expected goals, rating of aggression (how far forward they play), number of games played)"
   ]
  },
  {
   "cell_type": "markdown",
   "id": "6944cfa3",
   "metadata": {},
   "source": []
  }
 ],
 "metadata": {
  "kernelspec": {
   "display_name": "Python 3 (ipykernel)",
   "language": "python",
   "name": "python3"
  },
  "language_info": {
   "codemirror_mode": {
    "name": "ipython",
    "version": 3
   },
   "file_extension": ".py",
   "mimetype": "text/x-python",
   "name": "python",
   "nbconvert_exporter": "python",
   "pygments_lexer": "ipython3",
   "version": "3.11.5"
  }
 },
 "nbformat": 4,
 "nbformat_minor": 5
}
