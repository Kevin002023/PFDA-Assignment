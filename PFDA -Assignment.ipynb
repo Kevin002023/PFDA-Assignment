{
 "cells": [
  {
   "cell_type": "markdown",
   "id": "fc0ec23d",
   "metadata": {},
   "source": [
    "# Assignment for Programming for Data Analysis"
   ]
  },
  {
   "cell_type": "markdown",
   "id": "08ba9d5d",
   "metadata": {},
   "source": [
    "**Synthesize a data set of a real-world phenomenom and evaluate**\n"
   ]
  },
  {
   "cell_type": "markdown",
   "metadata": {},
   "source": [
    "## **Introduction** \n",
    "\n",
    "\n",
    "The Premier League is the highest level of the English football system. It consists of 20 teams who play each other home and away. In total there are 380 matches in season. \n",
    "\n",
    "As my dataset for this I have chosen to look at the home and away records of each Premier League football match from the 2000-2001 season until 2017-2018 season. I will be examining the relationship between playing at home (versus away) and how it relates to goals scored and cards given. There are many previous studies ([Pollard, 1986](https://www.tandfonline.com/doi/abs/10.1080/02640418608732122), & [Thomas, Reeves and Davies, 2004](https://journals.sagepub.com/doi/epdf/10.2466/pms.99.3f.1212-1216)) looking at the phenomenon of home advantage in football.\n",
    "\n",
    "Pollard examined the \"number of points won at home. . . expressed as a percentage of all points gained\" in the English First Division from 1888-1984. He found that approximately 64% of points were won at home.\n",
    "\n",
    "The Premier League was established in 1992 and Thomas et al's study \"was done to replicate Pollard's work with a contemporary focus in the English Football Premiership\". In this study it was found that 60.34% of points were won at home games. \n",
    "\n",
    "In these studies a number of reasons are given for this disparity, including;\n",
    "\n",
    "- Familiarity with conditions (size of pitch etc).\n",
    "- Crowd support.\n",
    "- Travel fatigue for the away team.\n",
    "\n",
    "I obtained this dataset on [Kwaggle](https://www.kaggle.com/datasets/saife245/english-premier-league). I have downloaded it as csv file to my project folder. \n",
    "\n",
    "This dataset contains statistics from every Premier League game since the beginning of the 00-01 season. As the above studies have shown the majority of points in a season are won by the home team. This should also be reflected in the number of goals scored. Yellow and red cards are awarded for indiscipline, logic would dictate that the team under more pressure is more likely to accrue yellow and red cards. My analysis below will look to see if this holds true. \n",
    "\n",
    "For the purposes of this project I will only be looking at Home goals scored, Away goals scored, Home yellow cards, Away yellow cards, Home red cards and Away red cards\n",
    "\n",
    "Once I understand the relationship between these factors, I will attmempt to synthesize this data myself."
   ]
  },
  {
   "cell_type": "markdown",
   "metadata": {},
   "source": [
    "## **Data Importing**\n"
   ]
  },
  {
   "cell_type": "code",
   "execution_count": 1,
   "metadata": {},
   "outputs": [],
   "source": [
    "# First of all I am going to import the libraries that I will be using for this task. \n",
    "\n",
    "import pandas as pd\n",
    "import seaborn as sb \n",
    "import matplotlib.pyplot as plt\n",
    "import numpy as np"
   ]
  },
  {
   "cell_type": "code",
   "execution_count": 2,
   "metadata": {},
   "outputs": [],
   "source": [
    "# I have saved the dataset in the same folder as my notebook. I am going to import it to the notebook \n",
    "\n",
    "footballdf = pd.read_csv('final_dataset.csv')"
   ]
  },
  {
   "cell_type": "code",
   "execution_count": 3,
   "metadata": {},
   "outputs": [
    {
     "data": {
      "text/html": [
       "<div>\n",
       "<style scoped>\n",
       "    .dataframe tbody tr th:only-of-type {\n",
       "        vertical-align: middle;\n",
       "    }\n",
       "\n",
       "    .dataframe tbody tr th {\n",
       "        vertical-align: top;\n",
       "    }\n",
       "\n",
       "    .dataframe thead th {\n",
       "        text-align: right;\n",
       "    }\n",
       "</style>\n",
       "<table border=\"1\" class=\"dataframe\">\n",
       "  <thead>\n",
       "    <tr style=\"text-align: right;\">\n",
       "      <th></th>\n",
       "      <th>Unnamed: 0</th>\n",
       "      <th>Date</th>\n",
       "      <th>HomeTeam</th>\n",
       "      <th>AwayTeam</th>\n",
       "      <th>FTHG</th>\n",
       "      <th>FTAG</th>\n",
       "      <th>FTR</th>\n",
       "      <th>HTGS</th>\n",
       "      <th>ATGS</th>\n",
       "      <th>HTGC</th>\n",
       "      <th>...</th>\n",
       "      <th>HTLossStreak3</th>\n",
       "      <th>HTLossStreak5</th>\n",
       "      <th>ATWinStreak3</th>\n",
       "      <th>ATWinStreak5</th>\n",
       "      <th>ATLossStreak3</th>\n",
       "      <th>ATLossStreak5</th>\n",
       "      <th>HTGD</th>\n",
       "      <th>ATGD</th>\n",
       "      <th>DiffPts</th>\n",
       "      <th>DiffFormPts</th>\n",
       "    </tr>\n",
       "  </thead>\n",
       "  <tbody>\n",
       "    <tr>\n",
       "      <th>0</th>\n",
       "      <td>0</td>\n",
       "      <td>19/08/2000</td>\n",
       "      <td>Charlton</td>\n",
       "      <td>Man City</td>\n",
       "      <td>4</td>\n",
       "      <td>0</td>\n",
       "      <td>H</td>\n",
       "      <td>0</td>\n",
       "      <td>0</td>\n",
       "      <td>0</td>\n",
       "      <td>...</td>\n",
       "      <td>0</td>\n",
       "      <td>0</td>\n",
       "      <td>0</td>\n",
       "      <td>0</td>\n",
       "      <td>0</td>\n",
       "      <td>0</td>\n",
       "      <td>0.0</td>\n",
       "      <td>0.0</td>\n",
       "      <td>0.0</td>\n",
       "      <td>0.0</td>\n",
       "    </tr>\n",
       "    <tr>\n",
       "      <th>1</th>\n",
       "      <td>1</td>\n",
       "      <td>19/08/2000</td>\n",
       "      <td>Chelsea</td>\n",
       "      <td>West Ham</td>\n",
       "      <td>4</td>\n",
       "      <td>2</td>\n",
       "      <td>H</td>\n",
       "      <td>0</td>\n",
       "      <td>0</td>\n",
       "      <td>0</td>\n",
       "      <td>...</td>\n",
       "      <td>0</td>\n",
       "      <td>0</td>\n",
       "      <td>0</td>\n",
       "      <td>0</td>\n",
       "      <td>0</td>\n",
       "      <td>0</td>\n",
       "      <td>0.0</td>\n",
       "      <td>0.0</td>\n",
       "      <td>0.0</td>\n",
       "      <td>0.0</td>\n",
       "    </tr>\n",
       "    <tr>\n",
       "      <th>2</th>\n",
       "      <td>2</td>\n",
       "      <td>19/08/2000</td>\n",
       "      <td>Coventry</td>\n",
       "      <td>Middlesbrough</td>\n",
       "      <td>1</td>\n",
       "      <td>3</td>\n",
       "      <td>NH</td>\n",
       "      <td>0</td>\n",
       "      <td>0</td>\n",
       "      <td>0</td>\n",
       "      <td>...</td>\n",
       "      <td>0</td>\n",
       "      <td>0</td>\n",
       "      <td>0</td>\n",
       "      <td>0</td>\n",
       "      <td>0</td>\n",
       "      <td>0</td>\n",
       "      <td>0.0</td>\n",
       "      <td>0.0</td>\n",
       "      <td>0.0</td>\n",
       "      <td>0.0</td>\n",
       "    </tr>\n",
       "    <tr>\n",
       "      <th>3</th>\n",
       "      <td>3</td>\n",
       "      <td>19/08/2000</td>\n",
       "      <td>Derby</td>\n",
       "      <td>Southampton</td>\n",
       "      <td>2</td>\n",
       "      <td>2</td>\n",
       "      <td>NH</td>\n",
       "      <td>0</td>\n",
       "      <td>0</td>\n",
       "      <td>0</td>\n",
       "      <td>...</td>\n",
       "      <td>0</td>\n",
       "      <td>0</td>\n",
       "      <td>0</td>\n",
       "      <td>0</td>\n",
       "      <td>0</td>\n",
       "      <td>0</td>\n",
       "      <td>0.0</td>\n",
       "      <td>0.0</td>\n",
       "      <td>0.0</td>\n",
       "      <td>0.0</td>\n",
       "    </tr>\n",
       "    <tr>\n",
       "      <th>4</th>\n",
       "      <td>4</td>\n",
       "      <td>19/08/2000</td>\n",
       "      <td>Leeds</td>\n",
       "      <td>Everton</td>\n",
       "      <td>2</td>\n",
       "      <td>0</td>\n",
       "      <td>H</td>\n",
       "      <td>0</td>\n",
       "      <td>0</td>\n",
       "      <td>0</td>\n",
       "      <td>...</td>\n",
       "      <td>0</td>\n",
       "      <td>0</td>\n",
       "      <td>0</td>\n",
       "      <td>0</td>\n",
       "      <td>0</td>\n",
       "      <td>0</td>\n",
       "      <td>0.0</td>\n",
       "      <td>0.0</td>\n",
       "      <td>0.0</td>\n",
       "      <td>0.0</td>\n",
       "    </tr>\n",
       "  </tbody>\n",
       "</table>\n",
       "<p>5 rows × 46 columns</p>\n",
       "</div>"
      ],
      "text/plain": [
       "   Unnamed: 0        Date  HomeTeam       AwayTeam  FTHG  FTAG FTR  HTGS  \\\n",
       "0           0  19/08/2000  Charlton       Man City     4     0   H     0   \n",
       "1           1  19/08/2000   Chelsea       West Ham     4     2   H     0   \n",
       "2           2  19/08/2000  Coventry  Middlesbrough     1     3  NH     0   \n",
       "3           3  19/08/2000     Derby    Southampton     2     2  NH     0   \n",
       "4           4  19/08/2000     Leeds        Everton     2     0   H     0   \n",
       "\n",
       "   ATGS  HTGC  ...  HTLossStreak3  HTLossStreak5  ATWinStreak3  ATWinStreak5  \\\n",
       "0     0     0  ...              0              0             0             0   \n",
       "1     0     0  ...              0              0             0             0   \n",
       "2     0     0  ...              0              0             0             0   \n",
       "3     0     0  ...              0              0             0             0   \n",
       "4     0     0  ...              0              0             0             0   \n",
       "\n",
       "   ATLossStreak3  ATLossStreak5  HTGD  ATGD  DiffPts DiffFormPts  \n",
       "0              0              0   0.0   0.0      0.0         0.0  \n",
       "1              0              0   0.0   0.0      0.0         0.0  \n",
       "2              0              0   0.0   0.0      0.0         0.0  \n",
       "3              0              0   0.0   0.0      0.0         0.0  \n",
       "4              0              0   0.0   0.0      0.0         0.0  \n",
       "\n",
       "[5 rows x 46 columns]"
      ]
     },
     "execution_count": 3,
     "metadata": {},
     "output_type": "execute_result"
    }
   ],
   "source": [
    "#Going to review the dataset to see it is what is expected\n",
    "footballdf.head()"
   ]
  },
  {
   "cell_type": "markdown",
   "metadata": {},
   "source": [
    "This dataset contains 45 different variables. For the purpose of this project I will only be looking at  'Home goals scored', 'Away goals scored', 'Home yellow cards', 'Away yellow cards', 'Home red cards' and 'Away red cards'. In the dataset these variables have the below names.\n",
    "\n",
    "- FTHG = Full Time Home Team Goals\n",
    "- FTAG = Full Time Away Team Goals\n",
    "- HY = Home yellow cards\n",
    "- AY = Away yellow cards\n",
    "- HR = Home red cards\n",
    "- AR = Away red cards\n",
    "\n",
    "I will create a new dataset with just these variables."
   ]
  },
  {
   "cell_type": "code",
   "execution_count": 4,
   "metadata": {},
   "outputs": [
    {
     "name": "stdout",
     "output_type": "stream",
     "text": [
      "<class 'pandas.core.frame.DataFrame'>\n",
      "RangeIndex: 6840 entries, 0 to 6839\n",
      "Data columns (total 9 columns):\n",
      " #   Column    Non-Null Count  Dtype \n",
      "---  ------    --------------  ----- \n",
      " 0   Date      6840 non-null   object\n",
      " 1   HomeTeam  6840 non-null   object\n",
      " 2   AwayTeam  6840 non-null   object\n",
      " 3   FTHG      6840 non-null   int64 \n",
      " 4   FTAG      6840 non-null   int64 \n",
      " 5   HY        6840 non-null   int64 \n",
      " 6   AY        6840 non-null   int64 \n",
      " 7   HR        6840 non-null   int64 \n",
      " 8   AR        6840 non-null   int64 \n",
      "dtypes: int64(6), object(3)\n",
      "memory usage: 481.1+ KB\n"
     ]
    },
    {
     "data": {
      "text/html": [
       "<div>\n",
       "<style scoped>\n",
       "    .dataframe tbody tr th:only-of-type {\n",
       "        vertical-align: middle;\n",
       "    }\n",
       "\n",
       "    .dataframe tbody tr th {\n",
       "        vertical-align: top;\n",
       "    }\n",
       "\n",
       "    .dataframe thead th {\n",
       "        text-align: right;\n",
       "    }\n",
       "</style>\n",
       "<table border=\"1\" class=\"dataframe\">\n",
       "  <thead>\n",
       "    <tr style=\"text-align: right;\">\n",
       "      <th></th>\n",
       "      <th>Date</th>\n",
       "      <th>HomeTeam</th>\n",
       "      <th>AwayTeam</th>\n",
       "      <th>FTHG</th>\n",
       "      <th>FTAG</th>\n",
       "      <th>HY</th>\n",
       "      <th>AY</th>\n",
       "      <th>HR</th>\n",
       "      <th>AR</th>\n",
       "    </tr>\n",
       "  </thead>\n",
       "  <tbody>\n",
       "    <tr>\n",
       "      <th>0</th>\n",
       "      <td>19/08/2000</td>\n",
       "      <td>Charlton</td>\n",
       "      <td>Man City</td>\n",
       "      <td>4</td>\n",
       "      <td>0</td>\n",
       "      <td>1</td>\n",
       "      <td>2</td>\n",
       "      <td>0</td>\n",
       "      <td>0</td>\n",
       "    </tr>\n",
       "    <tr>\n",
       "      <th>1</th>\n",
       "      <td>19/08/2000</td>\n",
       "      <td>Chelsea</td>\n",
       "      <td>West Ham</td>\n",
       "      <td>4</td>\n",
       "      <td>2</td>\n",
       "      <td>1</td>\n",
       "      <td>2</td>\n",
       "      <td>0</td>\n",
       "      <td>0</td>\n",
       "    </tr>\n",
       "    <tr>\n",
       "      <th>2</th>\n",
       "      <td>19/08/2000</td>\n",
       "      <td>Coventry</td>\n",
       "      <td>Middlesbrough</td>\n",
       "      <td>1</td>\n",
       "      <td>3</td>\n",
       "      <td>5</td>\n",
       "      <td>3</td>\n",
       "      <td>1</td>\n",
       "      <td>0</td>\n",
       "    </tr>\n",
       "    <tr>\n",
       "      <th>3</th>\n",
       "      <td>19/08/2000</td>\n",
       "      <td>Derby</td>\n",
       "      <td>Southampton</td>\n",
       "      <td>2</td>\n",
       "      <td>2</td>\n",
       "      <td>1</td>\n",
       "      <td>1</td>\n",
       "      <td>0</td>\n",
       "      <td>0</td>\n",
       "    </tr>\n",
       "    <tr>\n",
       "      <th>4</th>\n",
       "      <td>19/08/2000</td>\n",
       "      <td>Leeds</td>\n",
       "      <td>Everton</td>\n",
       "      <td>2</td>\n",
       "      <td>0</td>\n",
       "      <td>1</td>\n",
       "      <td>3</td>\n",
       "      <td>0</td>\n",
       "      <td>0</td>\n",
       "    </tr>\n",
       "  </tbody>\n",
       "</table>\n",
       "</div>"
      ],
      "text/plain": [
       "         Date  HomeTeam       AwayTeam  FTHG  FTAG  HY  AY  HR  AR\n",
       "0  19/08/2000  Charlton       Man City     4     0   1   2   0   0\n",
       "1  19/08/2000   Chelsea       West Ham     4     2   1   2   0   0\n",
       "2  19/08/2000  Coventry  Middlesbrough     1     3   5   3   1   0\n",
       "3  19/08/2000     Derby    Southampton     2     2   1   1   0   0\n",
       "4  19/08/2000     Leeds        Everton     2     0   1   3   0   0"
      ]
     },
     "execution_count": 4,
     "metadata": {},
     "output_type": "execute_result"
    }
   ],
   "source": [
    "# new dataset with only columns on interest\n",
    "\n",
    "prem_df = footballdf[['Date', 'HomeTeam', 'AwayTeam', 'FTHG', 'FTAG', 'HY', 'AY', 'HR', 'AR']]\n",
    "prem_df.info()\n",
    "prem_df.head()\n"
   ]
  },
  {
   "cell_type": "markdown",
   "metadata": {},
   "source": [
    "This dataframe shows the information we want. There are 6840 rows each representing one match that occurred. We can see columns showing what teams played, the goals scored for the home team (FTHG), the goals scored for the away team (FTAG), the yellow cards received for the home team (HY), the yellow cards received for the away team (AY), the red cards received for the home team (HR) and the red cards received for the away team (AR).\n",
    "\n",
    "For the purposes of context I have kept the first 3 columns with the fixture date and teams that played. However I will not be using these in my analysis."
   ]
  },
  {
   "cell_type": "markdown",
   "metadata": {},
   "source": [
    "## **Graphical Analysis**"
   ]
  },
  {
   "cell_type": "code",
   "execution_count": 5,
   "metadata": {},
   "outputs": [
    {
     "data": {
      "text/plain": [
       "<BarContainer object of 1 artists>"
      ]
     },
     "execution_count": 5,
     "metadata": {},
     "output_type": "execute_result"
    },
    {
     "data": {
      "image/png": "[encoded data removed]",
      "text/plain": [
       "<Figure size 640x480 with 1 Axes>"
      ]
     },
     "metadata": {},
     "output_type": "display_data"
    }
   ],
   "source": [
    "# Display the total number of goals scored by the home and away team\n",
    "\n",
    "fig, ax = plt.subplots()\n",
    "\n",
    "total_home_goals = prem_df['FTHG'].sum()\n",
    "total_away_goals = prem_df['FTAG'].sum()\n",
    "\n",
    "ax.bar('Home Goals', total_home_goals, label = 'Home Goals')\n",
    "ax.bar('Away Goals', total_away_goals, label = 'Away Goals')"
   ]
  },
  {
   "cell_type": "code",
   "execution_count": 6,
   "metadata": {},
   "outputs": [
    {
     "data": {
      "text/plain": [
       "<BarContainer object of 1 artists>"
      ]
     },
     "execution_count": 6,
     "metadata": {},
     "output_type": "execute_result"
    },
    {
     "data": {
      "image/png": "[encoded data removed]",
      "text/plain": [
       "<Figure size 640x480 with 1 Axes>"
      ]
     },
     "metadata": {},
     "output_type": "display_data"
    }
   ],
   "source": [
    "# Plot the total number of yellow cards received by the home and away team\n",
    "\n",
    "fig, ax = plt.subplots()\n",
    "\n",
    "total_home_yellow = prem_df['HY'].sum()\n",
    "total_away_yellow = prem_df['AY'].sum()\n",
    "\n",
    "\n",
    "ax.bar('Home Yellow Cards', total_home_yellow, label = 'Home Yellow Cards')\n",
    "ax.bar('Away Yellow Cards', total_away_yellow, label = 'Away Yellow Cards')\n"
   ]
  },
  {
   "cell_type": "code",
   "execution_count": 7,
   "metadata": {},
   "outputs": [
    {
     "data": {
      "text/plain": [
       "<BarContainer object of 1 artists>"
      ]
     },
     "execution_count": 7,
     "metadata": {},
     "output_type": "execute_result"
    },
    {
     "data": {
      "image/png": "[encoded data removed]",
      "text/plain": [
       "<Figure size 640x480 with 1 Axes>"
      ]
     },
     "metadata": {},
     "output_type": "display_data"
    }
   ],
   "source": [
    "# Plot the total number of red cards received by the home and away team\n",
    "\n",
    "fig, ax = plt.subplots()\n",
    "\n",
    "total_home_red = prem_df['HR'].sum()\n",
    "total_away_red = prem_df['AR'].sum()\n",
    "\n",
    "ax.bar('Home Red Cards', total_home_red, label = 'Home Red Cards')\n",
    "ax.bar('Away Red Cards', total_away_red, label = 'Away Red Cards')"
   ]
  },
  {
   "cell_type": "markdown",
   "metadata": {},
   "source": [
    "From looking at the above we can see the advantageous relationship of teams playing at home. \n"
   ]
  },
  {
   "cell_type": "code",
   "execution_count": 47,
   "metadata": {},
   "outputs": [
    {
     "name": "stdout",
     "output_type": "stream",
     "text": [
      "57% of all goals are scored by the home team. Only 42% are scored by the away team.\n"
     ]
    }
   ],
   "source": [
    "#Calculate the percentage of all goals scored that were scored by the home team\n",
    "\n",
    "# all goals \n",
    "all_goals = total_home_goals + total_away_goals\n",
    "percent_HG = int((total_home_goals/all_goals)*100)\n",
    "percent_AG = int((total_away_goals/all_goals)*100)\n",
    "\n",
    "print(f'{percent_HG}% of all goals are scored by the home team. Only {percent_AG}% are scored by the away team.')\n",
    "\n"
   ]
  },
  {
   "cell_type": "code",
   "execution_count": 9,
   "metadata": {},
   "outputs": [
    {
     "name": "stdout",
     "output_type": "stream",
     "text": [
      "Only 44% of yellow cards are awarded to the home team. Meanwhile 55% are given to the away team.\n"
     ]
    }
   ],
   "source": [
    "#Calculate the percentage of all yellow cards that were awarded to the home team\n",
    "\n",
    "# all yellow cards \n",
    "all_yellows = total_home_yellow + total_away_yellow\n",
    "percent_HY = int((total_home_yellow/all_yellows)*100)\n",
    "percent_AY = int((total_away_yellow/all_yellows)*100)\n",
    "\n",
    "print(f'Only {percent_HY}% of yellow cards are awarded to the home team. Meanwhile {percent_AY}% are given to the away team.')\n"
   ]
  },
  {
   "cell_type": "code",
   "execution_count": 10,
   "metadata": {},
   "outputs": [
    {
     "name": "stdout",
     "output_type": "stream",
     "text": [
      "Only 41% of red cards are awarded to the home team. Meanwhile 58% are given to the away team.\n"
     ]
    }
   ],
   "source": [
    "#Calculate the percentage of all red cards that were awarded to the home team\n",
    "\n",
    "# all yellow cards \n",
    "all_reds = total_home_red + total_away_red\n",
    "percent_HR = int((total_home_red/all_reds)*100)\n",
    "percent_AR = int((total_away_red/all_reds)*100)\n",
    "\n",
    "print(f'Only {percent_HR}% of red cards are awarded to the home team. Meanwhile {percent_AR}% are given to the away team.')\n"
   ]
  },
  {
   "cell_type": "code",
   "execution_count": 11,
   "metadata": {},
   "outputs": [],
   "source": [
    "home_goals = prem_df['FTHG'] # dataframe with just home goals\n",
    "away_goals = prem_df['FTAG']# dataframe with just away goals\n",
    "\n",
    "home_y = prem_df['HY'] # dataframe with just home yellow cards\n",
    "away_y = prem_df['AY'] # dataframe with just away yellow cards\n",
    "\n",
    "home_r = prem_df['HR'] # dataframe with just home red cards\n",
    "away_r = prem_df['AR'] # dataframe with just away red cards\n",
    "\n"
   ]
  },
  {
   "cell_type": "code",
   "execution_count": 56,
   "metadata": {},
   "outputs": [
    {
     "data": {
      "text/plain": [
       "<matplotlib.legend.Legend at 0x1ea9c0687d0>"
      ]
     },
     "execution_count": 56,
     "metadata": {},
     "output_type": "execute_result"
    },
    {
     "data": {
      "image/png": "[encoded data removed]",
      "text/plain": [
       "<Figure size 640x480 with 1 Axes>"
      ]
     },
     "metadata": {},
     "output_type": "display_data"
    }
   ],
   "source": [
    "#Create a histogram showing the distribution of goals scored both home and away\n",
    "\n",
    "plt.hist([home_goals, away_goals], 20, label = ['Home Team', 'Away Team'])\n",
    "plt.xticks(range(0, 11))\n",
    "plt.ylabel(\"Number of Games\")\n",
    "plt.xlabel(\"Goals Scored in one game\")\n",
    "plt.legend()"
   ]
  },
  {
   "cell_type": "code",
   "execution_count": 57,
   "metadata": {},
   "outputs": [
    {
     "data": {
      "text/plain": [
       "<matplotlib.legend.Legend at 0x1ea9c089a10>"
      ]
     },
     "execution_count": 57,
     "metadata": {},
     "output_type": "execute_result"
    },
    {
     "data": {
      "image/png": "[encoded data removed]",
      "text/plain": [
       "<Figure size 640x480 with 1 Axes>"
      ]
     },
     "metadata": {},
     "output_type": "display_data"
    }
   ],
   "source": [
    "#Create a histogram showing the distribution of yellow cards received both home and away\n",
    "\n",
    "plt.hist([home_y, away_y], 20, label = ['Home Team', 'Away Team'])\n",
    "plt.xticks(range(10))\n",
    "plt.ylabel(\"Number of Games\")\n",
    "plt.xlabel(\"Yellow Cards Received in 1 game\")\n",
    "plt.legend()"
   ]
  },
  {
   "cell_type": "code",
   "execution_count": 14,
   "metadata": {},
   "outputs": [
    {
     "data": {
      "text/plain": [
       "<matplotlib.legend.Legend at 0x1ea9a751610>"
      ]
     },
     "execution_count": 14,
     "metadata": {},
     "output_type": "execute_result"
    },
    {
     "data": {
      "image/png": "[encoded data removed]",
      "text/plain": [
       "<Figure size 640x480 with 1 Axes>"
      ]
     },
     "metadata": {},
     "output_type": "display_data"
    }
   ],
   "source": [
    "#Create a histogram showing the distribution of yellow cards received both home and away\n",
    "\n",
    "plt.hist([home_r, away_r], label = ['Home Team', 'Away Team'])\n",
    "plt.xticks(range(5))\n",
    "plt.ylabel(\"Number of Games\")\n",
    "plt.xlabel(\"Red Cards Received\")\n",
    "plt.legend()"
   ]
  },
  {
   "cell_type": "markdown",
   "metadata": {},
   "source": [
    "When looking at the above historgrams, it looks like all of our(*) variables follow a Poisson distribution. \n",
    "\n",
    "* Receiving more than 1 red card per game is relatively uncommon. So it is difficult to tell from this histogram if this variable does indeed fit a Poisson distribution.\n",
    "\n",
    "\"[A Poisson distribution](https://www.scribbr.com/statistics/poisson-distribution/#:~:text=A%20Poisson%20distribution%20is%20a,the%20mean%20number%20of%20events.) is a discrete probability distribution, meaning that it gives the probability of a discrete (i.e., countable) outcome. For Poisson distributions, the discrete outcome is the number of times an event occurs, represented by k.\"\n",
    "\n",
    "In our dataset the events taking place are the goals scored and yellow or red cards awarded.  In order to create a Poisson distribution we need to know the mean, or Lambda ( $\\lambda$)\n",
    "\n",
    "The equation for the Poisson distribution is below:\n",
    "\n",
    "$$ f(\\kappa;\\lambda) = \\frac{\\lambda^k.e^{-\\lambda}}{\\kappa!}$$"
   ]
  },
  {
   "cell_type": "markdown",
   "metadata": {},
   "source": [
    "## **Data Analysis**"
   ]
  },
  {
   "cell_type": "code",
   "execution_count": 15,
   "metadata": {},
   "outputs": [
    {
     "data": {
      "text/plain": [
       "count    6840.000000\n",
       "mean        1.527485\n",
       "std         1.297913\n",
       "min         0.000000\n",
       "25%         1.000000\n",
       "50%         1.000000\n",
       "75%         2.000000\n",
       "max         9.000000\n",
       "Name: FTHG, dtype: float64"
      ]
     },
     "execution_count": 15,
     "metadata": {},
     "output_type": "execute_result"
    }
   ],
   "source": [
    "home_goals.describe()"
   ]
  },
  {
   "cell_type": "markdown",
   "metadata": {},
   "source": [
    "For our Variable Home_goals, we know;\n",
    "\n",
    "- the standard deviation : 1.297913\n",
    "- mean: 1.527485\n",
    "\n",
    "We now take a look at the mean and variance (the square of the standard deviation) of goals scored. We are hoping to see these two values to be equal, since we know that the mean and variance of a Poisson random variable are the same."
   ]
  },
  {
   "cell_type": "code",
   "execution_count": 16,
   "metadata": {},
   "outputs": [
    {
     "name": "stdout",
     "output_type": "stream",
     "text": [
      "The Mean number of home goals scored is 1.527485380116959\n",
      "While  the Variance is 1.6845785565927742\n"
     ]
    }
   ],
   "source": [
    "#Mean and Variance of home goals scored\n",
    "\n",
    "print(f'The Mean number of home goals scored is {home_goals.mean()}')\n",
    "print(f'While  the Variance is {home_goals.var()}')\n"
   ]
  },
  {
   "cell_type": "markdown",
   "metadata": {},
   "source": [
    "While the mean and variance values aren't exactly the same they are still relatively close. Given the graphical analysis done above I think it is fair to say this variable fits within a Poisson Distribution"
   ]
  },
  {
   "cell_type": "code",
   "execution_count": 17,
   "metadata": {},
   "outputs": [
    {
     "data": {
      "text/plain": [
       "count    6840.000000\n",
       "mean        1.130263\n",
       "std         1.124566\n",
       "min         0.000000\n",
       "25%         0.000000\n",
       "50%         1.000000\n",
       "75%         2.000000\n",
       "max         7.000000\n",
       "Name: FTAG, dtype: float64"
      ]
     },
     "execution_count": 17,
     "metadata": {},
     "output_type": "execute_result"
    }
   ],
   "source": [
    "away_goals.describe()"
   ]
  },
  {
   "cell_type": "code",
   "execution_count": 18,
   "metadata": {},
   "outputs": [
    {
     "name": "stdout",
     "output_type": "stream",
     "text": [
      "The Mean number of away goals scored is 1.1302631578947369\n",
      "While the Variance is 1.2646491484597284\n"
     ]
    }
   ],
   "source": [
    "#Mean and Variance of away goals scored\n",
    "\n",
    "print(f'The Mean number of away goals scored is {away_goals.mean()}')\n",
    "print(f'While the Variance is {away_goals.var()}')"
   ]
  },
  {
   "cell_type": "markdown",
   "metadata": {},
   "source": [
    "Again the mean and variance are close enough to fit a Poisson Distribution."
   ]
  },
  {
   "cell_type": "code",
   "execution_count": 19,
   "metadata": {},
   "outputs": [
    {
     "data": {
      "text/plain": [
       "count    6840.000000\n",
       "mean        1.386842\n",
       "std         1.181844\n",
       "min         0.000000\n",
       "25%         0.000000\n",
       "50%         1.000000\n",
       "75%         2.000000\n",
       "max         7.000000\n",
       "Name: HY, dtype: float64"
      ]
     },
     "execution_count": 19,
     "metadata": {},
     "output_type": "execute_result"
    }
   ],
   "source": [
    "home_y.describe()"
   ]
  },
  {
   "cell_type": "code",
   "execution_count": 20,
   "metadata": {},
   "outputs": [
    {
     "name": "stdout",
     "output_type": "stream",
     "text": [
      "The Mean number of yellow cards received by the home team is 1.3868421052631579\n",
      "While the Variance is 1.3967562201306858\n"
     ]
    }
   ],
   "source": [
    "#Mean and Variance of home yellow cards received\n",
    "\n",
    "print(f'The Mean number of yellow cards received by the home team is {home_y.mean()}')\n",
    "print(f'While the Variance is {home_y.var()}')"
   ]
  },
  {
   "cell_type": "code",
   "execution_count": 21,
   "metadata": {},
   "outputs": [
    {
     "data": {
      "text/plain": [
       "count    6840.000000\n",
       "mean        1.764327\n",
       "std         1.278690\n",
       "min         0.000000\n",
       "25%         1.000000\n",
       "50%         2.000000\n",
       "75%         3.000000\n",
       "max         9.000000\n",
       "Name: AY, dtype: float64"
      ]
     },
     "execution_count": 21,
     "metadata": {},
     "output_type": "execute_result"
    }
   ],
   "source": [
    "away_y.describe()"
   ]
  },
  {
   "cell_type": "code",
   "execution_count": 22,
   "metadata": {},
   "outputs": [
    {
     "name": "stdout",
     "output_type": "stream",
     "text": [
      "The Mean number of yellow cards received by the away team is 1.764327485380117\n",
      "While the Variance is 1.6350483852072715\n"
     ]
    }
   ],
   "source": [
    "#Mean and Variance of away yellow cards received\n",
    "\n",
    "print(f'The Mean number of yellow cards received by the away team is {away_y.mean()}')\n",
    "print(f'While the Variance is {away_y.var()}')"
   ]
  },
  {
   "cell_type": "code",
   "execution_count": 23,
   "metadata": {},
   "outputs": [
    {
     "name": "stdout",
     "output_type": "stream",
     "text": [
      "The Mean number of red cards received by the home team is 0.06535087719298245\n",
      "While the Variance is 0.0672303199144276\n",
      "\n",
      "The Mean number of red cards received by the away team is 0.09400584795321637\n",
      "While the Variance is 0.0924922122775303\n"
     ]
    }
   ],
   "source": [
    "#Mean and Variance of red cards received for both home and away\n",
    "\n",
    "print(f'The Mean number of red cards received by the home team is {home_r.mean()}')\n",
    "print(f'While the Variance is {home_r.var()}\\n')\n",
    "\n",
    "\n",
    "print(f'The Mean number of red cards received by the away team is {away_r.mean()}')\n",
    "print(f'While the Variance is {away_r.var()}')"
   ]
  },
  {
   "cell_type": "markdown",
   "metadata": {},
   "source": [
    "The mean and the variance for all of these values are almost equal. This supports the idea that they fit a Poisson distribution."
   ]
  },
  {
   "cell_type": "markdown",
   "metadata": {},
   "source": [
    "# **Data Synthesis**"
   ]
  },
  {
   "cell_type": "markdown",
   "metadata": {},
   "source": [
    "Now that we are confident that we know the distributions for our variables, we can attempt to synthesize a new dataset while maintaining the characteristics of the original data.\n",
    "\n",
    "We will use the numpy.random.poisson generators to form a dataframe for each variable and then stitch them together to form a new dataset. In order to create a Poisson distribution we need to know the mean, or Lambda ( $\\lambda$). We want to maintain the size of the original dataset which had 6840 values. "
   ]
  },
  {
   "cell_type": "code",
   "execution_count": 24,
   "metadata": {},
   "outputs": [],
   "source": [
    "mean_home_goals = home_goals.mean()\n",
    "mean_away_goals = away_goals.mean()\n",
    "\n",
    "mean_home_y = home_y.mean()\n",
    "mean_away_y = away_y.mean()\n",
    "\n",
    "mean_home_r = home_r.mean()\n",
    "mean_away_r = away_r.mean()"
   ]
  },
  {
   "cell_type": "markdown",
   "metadata": {},
   "source": [
    "# Generation of new dataset"
   ]
  },
  {
   "cell_type": "code",
   "execution_count": 25,
   "metadata": {},
   "outputs": [
    {
     "data": {
      "text/html": [
       "<div>\n",
       "<style scoped>\n",
       "    .dataframe tbody tr th:only-of-type {\n",
       "        vertical-align: middle;\n",
       "    }\n",
       "\n",
       "    .dataframe tbody tr th {\n",
       "        vertical-align: top;\n",
       "    }\n",
       "\n",
       "    .dataframe thead th {\n",
       "        text-align: right;\n",
       "    }\n",
       "</style>\n",
       "<table border=\"1\" class=\"dataframe\">\n",
       "  <thead>\n",
       "    <tr style=\"text-align: right;\">\n",
       "      <th></th>\n",
       "      <th>0</th>\n",
       "    </tr>\n",
       "  </thead>\n",
       "  <tbody>\n",
       "    <tr>\n",
       "      <th>count</th>\n",
       "      <td>6840.000000</td>\n",
       "    </tr>\n",
       "    <tr>\n",
       "      <th>mean</th>\n",
       "      <td>1.534357</td>\n",
       "    </tr>\n",
       "    <tr>\n",
       "      <th>std</th>\n",
       "      <td>1.216204</td>\n",
       "    </tr>\n",
       "    <tr>\n",
       "      <th>min</th>\n",
       "      <td>0.000000</td>\n",
       "    </tr>\n",
       "    <tr>\n",
       "      <th>25%</th>\n",
       "      <td>1.000000</td>\n",
       "    </tr>\n",
       "    <tr>\n",
       "      <th>50%</th>\n",
       "      <td>1.000000</td>\n",
       "    </tr>\n",
       "    <tr>\n",
       "      <th>75%</th>\n",
       "      <td>2.000000</td>\n",
       "    </tr>\n",
       "    <tr>\n",
       "      <th>max</th>\n",
       "      <td>8.000000</td>\n",
       "    </tr>\n",
       "  </tbody>\n",
       "</table>\n",
       "</div>"
      ],
      "text/plain": [
       "                 0\n",
       "count  6840.000000\n",
       "mean      1.534357\n",
       "std       1.216204\n",
       "min       0.000000\n",
       "25%       1.000000\n",
       "50%       1.000000\n",
       "75%       2.000000\n",
       "max       8.000000"
      ]
     },
     "execution_count": 25,
     "metadata": {},
     "output_type": "execute_result"
    }
   ],
   "source": [
    "df1 = np.random.poisson(mean_home_goals, 6840)\n",
    "\n",
    "#New Home Goals (NHG) generated variable\n",
    "NHG = pd.DataFrame(df1)\n",
    "NHG.describe()\n",
    "\n"
   ]
  },
  {
   "cell_type": "code",
   "execution_count": 26,
   "metadata": {},
   "outputs": [
    {
     "data": {
      "text/html": [
       "<div>\n",
       "<style scoped>\n",
       "    .dataframe tbody tr th:only-of-type {\n",
       "        vertical-align: middle;\n",
       "    }\n",
       "\n",
       "    .dataframe tbody tr th {\n",
       "        vertical-align: top;\n",
       "    }\n",
       "\n",
       "    .dataframe thead th {\n",
       "        text-align: right;\n",
       "    }\n",
       "</style>\n",
       "<table border=\"1\" class=\"dataframe\">\n",
       "  <thead>\n",
       "    <tr style=\"text-align: right;\">\n",
       "      <th></th>\n",
       "      <th>0</th>\n",
       "    </tr>\n",
       "  </thead>\n",
       "  <tbody>\n",
       "    <tr>\n",
       "      <th>count</th>\n",
       "      <td>6840.000000</td>\n",
       "    </tr>\n",
       "    <tr>\n",
       "      <th>mean</th>\n",
       "      <td>1.129825</td>\n",
       "    </tr>\n",
       "    <tr>\n",
       "      <th>std</th>\n",
       "      <td>1.073053</td>\n",
       "    </tr>\n",
       "    <tr>\n",
       "      <th>min</th>\n",
       "      <td>0.000000</td>\n",
       "    </tr>\n",
       "    <tr>\n",
       "      <th>25%</th>\n",
       "      <td>0.000000</td>\n",
       "    </tr>\n",
       "    <tr>\n",
       "      <th>50%</th>\n",
       "      <td>1.000000</td>\n",
       "    </tr>\n",
       "    <tr>\n",
       "      <th>75%</th>\n",
       "      <td>2.000000</td>\n",
       "    </tr>\n",
       "    <tr>\n",
       "      <th>max</th>\n",
       "      <td>8.000000</td>\n",
       "    </tr>\n",
       "  </tbody>\n",
       "</table>\n",
       "</div>"
      ],
      "text/plain": [
       "                 0\n",
       "count  6840.000000\n",
       "mean      1.129825\n",
       "std       1.073053\n",
       "min       0.000000\n",
       "25%       0.000000\n",
       "50%       1.000000\n",
       "75%       2.000000\n",
       "max       8.000000"
      ]
     },
     "execution_count": 26,
     "metadata": {},
     "output_type": "execute_result"
    }
   ],
   "source": [
    "df2 = np.random.poisson(mean_away_goals, 6840)\n",
    "\n",
    "# New Away Goals (NAG) generated variable\n",
    "NAG = pd.DataFrame(df2)\n",
    "NAG.describe()"
   ]
  },
  {
   "cell_type": "code",
   "execution_count": 94,
   "metadata": {},
   "outputs": [
    {
     "data": {
      "text/html": [
       "<div>\n",
       "<style scoped>\n",
       "    .dataframe tbody tr th:only-of-type {\n",
       "        vertical-align: middle;\n",
       "    }\n",
       "\n",
       "    .dataframe tbody tr th {\n",
       "        vertical-align: top;\n",
       "    }\n",
       "\n",
       "    .dataframe thead th {\n",
       "        text-align: right;\n",
       "    }\n",
       "</style>\n",
       "<table border=\"1\" class=\"dataframe\">\n",
       "  <thead>\n",
       "    <tr style=\"text-align: right;\">\n",
       "      <th></th>\n",
       "      <th>0</th>\n",
       "    </tr>\n",
       "  </thead>\n",
       "  <tbody>\n",
       "    <tr>\n",
       "      <th>count</th>\n",
       "      <td>6840.000000</td>\n",
       "    </tr>\n",
       "    <tr>\n",
       "      <th>mean</th>\n",
       "      <td>1.386550</td>\n",
       "    </tr>\n",
       "    <tr>\n",
       "      <th>std</th>\n",
       "      <td>1.164617</td>\n",
       "    </tr>\n",
       "    <tr>\n",
       "      <th>min</th>\n",
       "      <td>0.000000</td>\n",
       "    </tr>\n",
       "    <tr>\n",
       "      <th>25%</th>\n",
       "      <td>1.000000</td>\n",
       "    </tr>\n",
       "    <tr>\n",
       "      <th>50%</th>\n",
       "      <td>1.000000</td>\n",
       "    </tr>\n",
       "    <tr>\n",
       "      <th>75%</th>\n",
       "      <td>2.000000</td>\n",
       "    </tr>\n",
       "    <tr>\n",
       "      <th>max</th>\n",
       "      <td>7.000000</td>\n",
       "    </tr>\n",
       "  </tbody>\n",
       "</table>\n",
       "</div>"
      ],
      "text/plain": [
       "                 0\n",
       "count  6840.000000\n",
       "mean      1.386550\n",
       "std       1.164617\n",
       "min       0.000000\n",
       "25%       1.000000\n",
       "50%       1.000000\n",
       "75%       2.000000\n",
       "max       7.000000"
      ]
     },
     "execution_count": 94,
     "metadata": {},
     "output_type": "execute_result"
    }
   ],
   "source": [
    "df3 = np.random.poisson(mean_home_y, 6840)\n",
    "\n",
    "# New Home Yellow Cards (NHY) generated variable\n",
    "NHY = pd.DataFrame(df3)\n",
    "NHY.describe()"
   ]
  },
  {
   "cell_type": "code",
   "execution_count": 95,
   "metadata": {},
   "outputs": [
    {
     "data": {
      "text/html": [
       "<div>\n",
       "<style scoped>\n",
       "    .dataframe tbody tr th:only-of-type {\n",
       "        vertical-align: middle;\n",
       "    }\n",
       "\n",
       "    .dataframe tbody tr th {\n",
       "        vertical-align: top;\n",
       "    }\n",
       "\n",
       "    .dataframe thead th {\n",
       "        text-align: right;\n",
       "    }\n",
       "</style>\n",
       "<table border=\"1\" class=\"dataframe\">\n",
       "  <thead>\n",
       "    <tr style=\"text-align: right;\">\n",
       "      <th></th>\n",
       "      <th>0</th>\n",
       "    </tr>\n",
       "  </thead>\n",
       "  <tbody>\n",
       "    <tr>\n",
       "      <th>count</th>\n",
       "      <td>6840.000000</td>\n",
       "    </tr>\n",
       "    <tr>\n",
       "      <th>mean</th>\n",
       "      <td>1.775877</td>\n",
       "    </tr>\n",
       "    <tr>\n",
       "      <th>std</th>\n",
       "      <td>1.330545</td>\n",
       "    </tr>\n",
       "    <tr>\n",
       "      <th>min</th>\n",
       "      <td>0.000000</td>\n",
       "    </tr>\n",
       "    <tr>\n",
       "      <th>25%</th>\n",
       "      <td>1.000000</td>\n",
       "    </tr>\n",
       "    <tr>\n",
       "      <th>50%</th>\n",
       "      <td>2.000000</td>\n",
       "    </tr>\n",
       "    <tr>\n",
       "      <th>75%</th>\n",
       "      <td>3.000000</td>\n",
       "    </tr>\n",
       "    <tr>\n",
       "      <th>max</th>\n",
       "      <td>8.000000</td>\n",
       "    </tr>\n",
       "  </tbody>\n",
       "</table>\n",
       "</div>"
      ],
      "text/plain": [
       "                 0\n",
       "count  6840.000000\n",
       "mean      1.775877\n",
       "std       1.330545\n",
       "min       0.000000\n",
       "25%       1.000000\n",
       "50%       2.000000\n",
       "75%       3.000000\n",
       "max       8.000000"
      ]
     },
     "execution_count": 95,
     "metadata": {},
     "output_type": "execute_result"
    }
   ],
   "source": [
    "df4 = np.random.poisson(mean_away_y, 6840)\n",
    "\n",
    "# New Away Yellow Cards (NAY) generated variable\n",
    "NAY = pd.DataFrame(df4)\n",
    "NAY.describe()"
   ]
  },
  {
   "cell_type": "code",
   "execution_count": 96,
   "metadata": {},
   "outputs": [
    {
     "data": {
      "text/html": [
       "<div>\n",
       "<style scoped>\n",
       "    .dataframe tbody tr th:only-of-type {\n",
       "        vertical-align: middle;\n",
       "    }\n",
       "\n",
       "    .dataframe tbody tr th {\n",
       "        vertical-align: top;\n",
       "    }\n",
       "\n",
       "    .dataframe thead th {\n",
       "        text-align: right;\n",
       "    }\n",
       "</style>\n",
       "<table border=\"1\" class=\"dataframe\">\n",
       "  <thead>\n",
       "    <tr style=\"text-align: right;\">\n",
       "      <th></th>\n",
       "      <th>0</th>\n",
       "    </tr>\n",
       "  </thead>\n",
       "  <tbody>\n",
       "    <tr>\n",
       "      <th>count</th>\n",
       "      <td>6840.000000</td>\n",
       "    </tr>\n",
       "    <tr>\n",
       "      <th>mean</th>\n",
       "      <td>0.070468</td>\n",
       "    </tr>\n",
       "    <tr>\n",
       "      <th>std</th>\n",
       "      <td>0.262718</td>\n",
       "    </tr>\n",
       "    <tr>\n",
       "      <th>min</th>\n",
       "      <td>0.000000</td>\n",
       "    </tr>\n",
       "    <tr>\n",
       "      <th>25%</th>\n",
       "      <td>0.000000</td>\n",
       "    </tr>\n",
       "    <tr>\n",
       "      <th>50%</th>\n",
       "      <td>0.000000</td>\n",
       "    </tr>\n",
       "    <tr>\n",
       "      <th>75%</th>\n",
       "      <td>0.000000</td>\n",
       "    </tr>\n",
       "    <tr>\n",
       "      <th>max</th>\n",
       "      <td>2.000000</td>\n",
       "    </tr>\n",
       "  </tbody>\n",
       "</table>\n",
       "</div>"
      ],
      "text/plain": [
       "                 0\n",
       "count  6840.000000\n",
       "mean      0.070468\n",
       "std       0.262718\n",
       "min       0.000000\n",
       "25%       0.000000\n",
       "50%       0.000000\n",
       "75%       0.000000\n",
       "max       2.000000"
      ]
     },
     "execution_count": 96,
     "metadata": {},
     "output_type": "execute_result"
    }
   ],
   "source": [
    "df5 = np.random.poisson(mean_home_r, 6840)\n",
    "\n",
    "# New Home Red Cards (NHR) generated variable\n",
    "NHR = pd.DataFrame(df5)\n",
    "NHR.describe()"
   ]
  },
  {
   "cell_type": "code",
   "execution_count": 97,
   "metadata": {},
   "outputs": [
    {
     "data": {
      "text/html": [
       "<div>\n",
       "<style scoped>\n",
       "    .dataframe tbody tr th:only-of-type {\n",
       "        vertical-align: middle;\n",
       "    }\n",
       "\n",
       "    .dataframe tbody tr th {\n",
       "        vertical-align: top;\n",
       "    }\n",
       "\n",
       "    .dataframe thead th {\n",
       "        text-align: right;\n",
       "    }\n",
       "</style>\n",
       "<table border=\"1\" class=\"dataframe\">\n",
       "  <thead>\n",
       "    <tr style=\"text-align: right;\">\n",
       "      <th></th>\n",
       "      <th>0</th>\n",
       "    </tr>\n",
       "  </thead>\n",
       "  <tbody>\n",
       "    <tr>\n",
       "      <th>count</th>\n",
       "      <td>6840.000000</td>\n",
       "    </tr>\n",
       "    <tr>\n",
       "      <th>mean</th>\n",
       "      <td>0.089620</td>\n",
       "    </tr>\n",
       "    <tr>\n",
       "      <th>std</th>\n",
       "      <td>0.300622</td>\n",
       "    </tr>\n",
       "    <tr>\n",
       "      <th>min</th>\n",
       "      <td>0.000000</td>\n",
       "    </tr>\n",
       "    <tr>\n",
       "      <th>25%</th>\n",
       "      <td>0.000000</td>\n",
       "    </tr>\n",
       "    <tr>\n",
       "      <th>50%</th>\n",
       "      <td>0.000000</td>\n",
       "    </tr>\n",
       "    <tr>\n",
       "      <th>75%</th>\n",
       "      <td>0.000000</td>\n",
       "    </tr>\n",
       "    <tr>\n",
       "      <th>max</th>\n",
       "      <td>3.000000</td>\n",
       "    </tr>\n",
       "  </tbody>\n",
       "</table>\n",
       "</div>"
      ],
      "text/plain": [
       "                 0\n",
       "count  6840.000000\n",
       "mean      0.089620\n",
       "std       0.300622\n",
       "min       0.000000\n",
       "25%       0.000000\n",
       "50%       0.000000\n",
       "75%       0.000000\n",
       "max       3.000000"
      ]
     },
     "execution_count": 97,
     "metadata": {},
     "output_type": "execute_result"
    }
   ],
   "source": [
    "df6 = np.random.poisson(mean_away_r, 6840)\n",
    "\n",
    "# New Away Red Cards (NAR) generated variable\n",
    "NAR = pd.DataFrame(df6)\n",
    "NAR.describe()"
   ]
  },
  {
   "cell_type": "code",
   "execution_count": 99,
   "metadata": {},
   "outputs": [
    {
     "data": {
      "text/html": [
       "<div>\n",
       "<style scoped>\n",
       "    .dataframe tbody tr th:only-of-type {\n",
       "        vertical-align: middle;\n",
       "    }\n",
       "\n",
       "    .dataframe tbody tr th {\n",
       "        vertical-align: top;\n",
       "    }\n",
       "\n",
       "    .dataframe thead th {\n",
       "        text-align: right;\n",
       "    }\n",
       "</style>\n",
       "<table border=\"1\" class=\"dataframe\">\n",
       "  <thead>\n",
       "    <tr style=\"text-align: right;\">\n",
       "      <th></th>\n",
       "      <th>NHG</th>\n",
       "      <th>NAG</th>\n",
       "      <th>NHY</th>\n",
       "      <th>NAY</th>\n",
       "      <th>NHR</th>\n",
       "      <th>NAR</th>\n",
       "    </tr>\n",
       "  </thead>\n",
       "  <tbody>\n",
       "    <tr>\n",
       "      <th>count</th>\n",
       "      <td>6840.000000</td>\n",
       "      <td>6840.000000</td>\n",
       "      <td>6840.000000</td>\n",
       "      <td>6840.000000</td>\n",
       "      <td>6840.000000</td>\n",
       "      <td>6840.000000</td>\n",
       "    </tr>\n",
       "    <tr>\n",
       "      <th>mean</th>\n",
       "      <td>1.534357</td>\n",
       "      <td>1.129825</td>\n",
       "      <td>1.386550</td>\n",
       "      <td>1.775877</td>\n",
       "      <td>0.070468</td>\n",
       "      <td>0.089620</td>\n",
       "    </tr>\n",
       "    <tr>\n",
       "      <th>std</th>\n",
       "      <td>1.216204</td>\n",
       "      <td>1.073053</td>\n",
       "      <td>1.164617</td>\n",
       "      <td>1.330545</td>\n",
       "      <td>0.262718</td>\n",
       "      <td>0.300622</td>\n",
       "    </tr>\n",
       "    <tr>\n",
       "      <th>min</th>\n",
       "      <td>0.000000</td>\n",
       "      <td>0.000000</td>\n",
       "      <td>0.000000</td>\n",
       "      <td>0.000000</td>\n",
       "      <td>0.000000</td>\n",
       "      <td>0.000000</td>\n",
       "    </tr>\n",
       "    <tr>\n",
       "      <th>25%</th>\n",
       "      <td>1.000000</td>\n",
       "      <td>0.000000</td>\n",
       "      <td>1.000000</td>\n",
       "      <td>1.000000</td>\n",
       "      <td>0.000000</td>\n",
       "      <td>0.000000</td>\n",
       "    </tr>\n",
       "    <tr>\n",
       "      <th>50%</th>\n",
       "      <td>1.000000</td>\n",
       "      <td>1.000000</td>\n",
       "      <td>1.000000</td>\n",
       "      <td>2.000000</td>\n",
       "      <td>0.000000</td>\n",
       "      <td>0.000000</td>\n",
       "    </tr>\n",
       "    <tr>\n",
       "      <th>75%</th>\n",
       "      <td>2.000000</td>\n",
       "      <td>2.000000</td>\n",
       "      <td>2.000000</td>\n",
       "      <td>3.000000</td>\n",
       "      <td>0.000000</td>\n",
       "      <td>0.000000</td>\n",
       "    </tr>\n",
       "    <tr>\n",
       "      <th>max</th>\n",
       "      <td>8.000000</td>\n",
       "      <td>8.000000</td>\n",
       "      <td>7.000000</td>\n",
       "      <td>8.000000</td>\n",
       "      <td>2.000000</td>\n",
       "      <td>3.000000</td>\n",
       "    </tr>\n",
       "  </tbody>\n",
       "</table>\n",
       "</div>"
      ],
      "text/plain": [
       "               NHG          NAG          NHY          NAY          NHR  \\\n",
       "count  6840.000000  6840.000000  6840.000000  6840.000000  6840.000000   \n",
       "mean      1.534357     1.129825     1.386550     1.775877     0.070468   \n",
       "std       1.216204     1.073053     1.164617     1.330545     0.262718   \n",
       "min       0.000000     0.000000     0.000000     0.000000     0.000000   \n",
       "25%       1.000000     0.000000     1.000000     1.000000     0.000000   \n",
       "50%       1.000000     1.000000     1.000000     2.000000     0.000000   \n",
       "75%       2.000000     2.000000     2.000000     3.000000     0.000000   \n",
       "max       8.000000     8.000000     7.000000     8.000000     2.000000   \n",
       "\n",
       "               NAR  \n",
       "count  6840.000000  \n",
       "mean      0.089620  \n",
       "std       0.300622  \n",
       "min       0.000000  \n",
       "25%       0.000000  \n",
       "50%       0.000000  \n",
       "75%       0.000000  \n",
       "max       3.000000  "
      ]
     },
     "execution_count": 99,
     "metadata": {},
     "output_type": "execute_result"
    }
   ],
   "source": [
    "# Stitching the newly generated dataframes into one dataset\n",
    "\n",
    "\n",
    "new_football_df = pd.concat([NHG, NAG, NHY, NAY, NHR, NAR], axis=1)\n",
    "\n",
    "#Adding nanmes to each column as for some reason the new dataset isnt taking the previous dataframe names. \n",
    "new_column_names = ['NHG', 'NAG', 'NHY', 'NAY', 'NHR', 'NAR']\n",
    "new_football_df.columns = new_column_names\n",
    "\n",
    "new_football_df.describe()"
   ]
  },
  {
   "cell_type": "markdown",
   "metadata": {},
   "source": []
  },
  {
   "cell_type": "code",
   "execution_count": 98,
   "metadata": {},
   "outputs": [
    {
     "data": {
      "text/plain": [
       "<BarContainer object of 1 artists>"
      ]
     },
     "execution_count": 98,
     "metadata": {},
     "output_type": "execute_result"
    },
    {
     "data": {
      "image/png": "[encoded data removed]",
      "text/plain": [
       "<Figure size 640x480 with 1 Axes>"
      ]
     },
     "metadata": {},
     "output_type": "display_data"
    }
   ],
   "source": [
    "# Create a bar chart showing the number of goals in our new dataframes\n",
    "\n",
    "fig, ax = plt.subplots()\n",
    "\n",
    "# df.sum() will allow us to get the total number of goals in each dataframe\n",
    "\n",
    "ax.bar('Home Goals', NHG.sum(), label = 'Home Goals')\n",
    "ax.bar('Away Goals', NAG.sum(), label = 'Away Goals')"
   ]
  },
  {
   "cell_type": "code",
   "execution_count": 28,
   "metadata": {},
   "outputs": [
    {
     "data": {
      "text/plain": [
       "<matplotlib.legend.Legend at 0x1ea9a9a1a10>"
      ]
     },
     "execution_count": 28,
     "metadata": {},
     "output_type": "execute_result"
    },
    {
     "data": {
      "image/png": "[encoded data removed]",
      "text/plain": [
       "<Figure size 640x480 with 1 Axes>"
      ]
     },
     "metadata": {},
     "output_type": "display_data"
    }
   ],
   "source": [
    "#Create a histogram showing the distribution of goals scored both home and away for our newly generated values\n",
    "\n",
    "\n",
    "#The dataframes are two dimensional. I just want the number of goals which is column \"0\"\n",
    "hist_NHG= NHG[0]\n",
    "hist_NAG= NAG[0]\n",
    "\n",
    "plt.hist([hist_NHG, hist_NAG], 20, label = ['Home Team', 'Away Team']) \n",
    "\n",
    "\n",
    "plt.xticks(range(0, 11))\n",
    "plt.ylabel(\"Number of Games\")\n",
    "plt.xlabel(\"Goals Scored\")\n",
    "plt.legend()"
   ]
  },
  {
   "cell_type": "code",
   "execution_count": 29,
   "metadata": {},
   "outputs": [
    {
     "name": "stdout",
     "output_type": "stream",
     "text": [
      "57% of all goals are scored by the home team. Only 42% are scored by the away team.\n"
     ]
    }
   ],
   "source": [
    "#Calculate the percentage of all goals scored that were scored by the home team\n",
    "\n",
    "new_total_HG = NHG[0].sum()\n",
    "new_total_AG = NAG[0].sum()\n",
    "\n",
    "#all goals \n",
    "new_all_goals = new_total_HG + new_total_AG\n",
    "percent_NHG = int((new_total_HG/new_all_goals)*100)\n",
    "percent_NAG = int((new_total_AG/new_all_goals)*100)\n",
    "\n",
    "print(f'{percent_NHG}% of all goals are scored by the home team. Only {percent_NAG}% are scored by the away team.')"
   ]
  },
  {
   "cell_type": "code",
   "execution_count": 32,
   "metadata": {},
   "outputs": [
    {
     "data": {
      "text/plain": [
       "<BarContainer object of 1 artists>"
      ]
     },
     "execution_count": 32,
     "metadata": {},
     "output_type": "execute_result"
    },
    {
     "data": {
      "image/png": "[encoded data removed]",
      "text/plain": [
       "<Figure size 640x480 with 1 Axes>"
      ]
     },
     "metadata": {},
     "output_type": "display_data"
    }
   ],
   "source": [
    "# Create a bar chart showing the number of yellow cards received in our new dataframes\n",
    "\n",
    "fig, ax = plt.subplots()\n",
    "\n",
    "\n",
    "ax.bar('Home Yellows', NHY.sum(), label = 'Home Yellows')\n",
    "ax.bar('Away Yellows', NAY.sum(), label = 'Away Yellows')"
   ]
  },
  {
   "cell_type": "code",
   "execution_count": 51,
   "metadata": {},
   "outputs": [
    {
     "data": {
      "text/plain": [
       "<matplotlib.legend.Legend at 0x1ea9be52d50>"
      ]
     },
     "execution_count": 51,
     "metadata": {},
     "output_type": "execute_result"
    },
    {
     "data": {
      "image/png": "[encoded data removed]",
      "text/plain": [
       "<Figure size 640x480 with 1 Axes>"
      ]
     },
     "metadata": {},
     "output_type": "display_data"
    }
   ],
   "source": [
    "#Create a histogram showing the distribution of goals scored both home and away for our newly generated values\n",
    "\n",
    "#The dataframes are two dimensional. I just want the number of yellows which is colum \"0\"\n",
    "hist_NHY = NHY[0]\n",
    "hist_NAY = NAY[0]\n",
    "\n",
    "plt.hist([hist_NHY, hist_NAY], 20, label = ['Home Team', 'Away Team']) \n",
    "\n",
    "plt.xticks(range(0, 11))\n",
    "plt.ylabel(\"Number of Games\")\n",
    "plt.xlabel(\"Number of Yellow cards shown in 1 game\")\n",
    "plt.legend()"
   ]
  },
  {
   "cell_type": "code",
   "execution_count": 52,
   "metadata": {},
   "outputs": [
    {
     "name": "stdout",
     "output_type": "stream",
     "text": [
      "Only 43% of all yellow cards are awarded to the home team. While 56% are given to the away team.\n"
     ]
    }
   ],
   "source": [
    "#Calculate the percentage of all yellow cards awarded to the home team\n",
    "\n",
    "new_total_HY = NHY[0].sum()\n",
    "new_total_AY = NAY[0].sum()\n",
    "\n",
    "#all yellows \n",
    "new_all_yellows = new_total_HY + new_total_AY\n",
    "\n",
    "percent_NHY = int((new_total_HY/new_all_yellows)*100)\n",
    "percent_NAY = int((new_total_AY/new_all_yellows)*100)\n",
    "\n",
    "print(f'Only {percent_NHY}% of all yellow cards are awarded to the home team. While {percent_NAY}% are given to the away team.')"
   ]
  },
  {
   "cell_type": "code",
   "execution_count": 37,
   "metadata": {},
   "outputs": [
    {
     "data": {
      "text/plain": [
       "<BarContainer object of 1 artists>"
      ]
     },
     "execution_count": 37,
     "metadata": {},
     "output_type": "execute_result"
    },
    {
     "data": {
      "image/png": "[encoded data removed]",
      "text/plain": [
       "<Figure size 640x480 with 1 Axes>"
      ]
     },
     "metadata": {},
     "output_type": "display_data"
    }
   ],
   "source": [
    "# Create a bar chart showing the number of yellow cards received in our new dataframes\n",
    "\n",
    "fig, ax = plt.subplots()\n",
    "\n",
    "\n",
    "ax.bar('Home Red Cards', NHR.sum(), label = 'Home Red Cards')\n",
    "ax.bar('Away Red Cards', NAR.sum(), label = 'Away Red Cards')"
   ]
  },
  {
   "cell_type": "code",
   "execution_count": 38,
   "metadata": {},
   "outputs": [
    {
     "data": {
      "text/plain": [
       "<matplotlib.legend.Legend at 0x1ea9a84d590>"
      ]
     },
     "execution_count": 38,
     "metadata": {},
     "output_type": "execute_result"
    },
    {
     "data": {
      "image/png": "[encoded data removed]",
      "text/plain": [
       "<Figure size 640x480 with 1 Axes>"
      ]
     },
     "metadata": {},
     "output_type": "display_data"
    }
   ],
   "source": [
    "#Create a histogram showing the distribution of Red cards received by both home and away for our newly generated values\n",
    "\n",
    "\n",
    "plt.hist([NHR[0], NAR[0]], 20, label = ['Home Team', 'Away Team']) \n",
    "\n",
    "#The dataframes are two dimensional. I just want the number of goals which is column \"0\"\n",
    "\n",
    "#plt.xticks(range(0, 11))\n",
    "plt.ylabel(\"Number of Games\")\n",
    "plt.xlabel(\"Red Cards Received\")\n",
    "plt.legend()"
   ]
  },
  {
   "cell_type": "code",
   "execution_count": 39,
   "metadata": {},
   "outputs": [
    {
     "name": "stdout",
     "output_type": "stream",
     "text": [
      "Only 41% of all red cards are awarded to the home team. While 58% are given to the away team.\n"
     ]
    }
   ],
   "source": [
    "#Calculate the percentage of all red cards awarded to the home team\n",
    "\n",
    "new_total_HR = NHR[0].sum()\n",
    "new_total_AR = NAR[0].sum()\n",
    "\n",
    "#all red cards \n",
    "new_all_reds = new_total_HR + new_total_AR\n",
    "\n",
    "percent_NHR = int((new_total_HR/new_all_reds)*100)\n",
    "percent_NAR = int((new_total_AR/new_all_reds)*100)\n",
    "\n",
    "print(f'Only {percent_NHR}% of all red cards are awarded to the home team. While {percent_NAR}% are given to the away team.')"
   ]
  },
  {
   "cell_type": "markdown",
   "metadata": {},
   "source": [
    "In the original dataset prem_df there is a column for the date of each game.  This is not a Variable that I have considered in any of the above analysis.  However I thought it would be an interesting excersise to generate a similar for our newly created dataset. Its important to note that I am including generalisations/limitations on this.  While not all games take place on the weekend for the purposes of this activity I am going to assume all games happened on Friday, Saturday or Sunday. While in the real world the start and end dates of the Premiership season vary year to year based on numerous criteria, I am again assuming they take place from August to May"
   ]
  },
  {
   "cell_type": "code",
   "execution_count": 91,
   "metadata": {},
   "outputs": [],
   "source": [
    "import pandas as pd\n",
    "from datetime import datetime, timedelta\n",
    "\n",
    "# Define the start date of the season\n",
    "start_date = datetime.strptime('2001-08-01', '%Y-%m-%d')\n",
    "\n",
    "# Calculate the number of days for the entire season (38 weeks for 380 games)\n",
    "num_days_season = 38 * 7  # 38 weeks for 380 games\n",
    "\n",
    "# Create a list of dates for each match day\n",
    "match_dates = [start_date + timedelta(days=7 * i) for i in range(num_days_season)]\n",
    "\n",
    "\n",
    "# Generate fixtures\n",
    "fixtures = []\n",
    "for i, date in enumerate(match_dates):\n",
    "    for j in range(0, 10, 2):\n",
    "        fixtures.append({\n",
    "            'Date': date,            \n",
    "        })\n",
    "\n",
    "# Create a dataframe\n",
    "fixtures_df = pd.DataFrame(fixtures)"
   ]
  },
  {
   "cell_type": "code",
   "execution_count": 93,
   "metadata": {},
   "outputs": [
    {
     "data": {
      "text/html": [
       "<div>\n",
       "<style scoped>\n",
       "    .dataframe tbody tr th:only-of-type {\n",
       "        vertical-align: middle;\n",
       "    }\n",
       "\n",
       "    .dataframe tbody tr th {\n",
       "        vertical-align: top;\n",
       "    }\n",
       "\n",
       "    .dataframe thead th {\n",
       "        text-align: right;\n",
       "    }\n",
       "</style>\n",
       "<table border=\"1\" class=\"dataframe\">\n",
       "  <thead>\n",
       "    <tr style=\"text-align: right;\">\n",
       "      <th></th>\n",
       "      <th>Date</th>\n",
       "    </tr>\n",
       "  </thead>\n",
       "  <tbody>\n",
       "    <tr>\n",
       "      <th>count</th>\n",
       "      <td>1330</td>\n",
       "    </tr>\n",
       "    <tr>\n",
       "      <th>mean</th>\n",
       "      <td>2004-02-14 11:59:59.999999872</td>\n",
       "    </tr>\n",
       "    <tr>\n",
       "      <th>min</th>\n",
       "      <td>2001-08-01 00:00:00</td>\n",
       "    </tr>\n",
       "    <tr>\n",
       "      <th>25%</th>\n",
       "      <td>2002-11-06 00:00:00</td>\n",
       "    </tr>\n",
       "    <tr>\n",
       "      <th>50%</th>\n",
       "      <td>2004-02-14 12:00:00</td>\n",
       "    </tr>\n",
       "    <tr>\n",
       "      <th>75%</th>\n",
       "      <td>2005-05-25 00:00:00</td>\n",
       "    </tr>\n",
       "    <tr>\n",
       "      <th>max</th>\n",
       "      <td>2006-08-30 00:00:00</td>\n",
       "    </tr>\n",
       "  </tbody>\n",
       "</table>\n",
       "</div>"
      ],
      "text/plain": [
       "                                Date\n",
       "count                           1330\n",
       "mean   2004-02-14 11:59:59.999999872\n",
       "min              2001-08-01 00:00:00\n",
       "25%              2002-11-06 00:00:00\n",
       "50%              2004-02-14 12:00:00\n",
       "75%              2005-05-25 00:00:00\n",
       "max              2006-08-30 00:00:00"
      ]
     },
     "execution_count": 93,
     "metadata": {},
     "output_type": "execute_result"
    }
   ],
   "source": [
    "fixtures_df.describe()"
   ]
  },
  {
   "cell_type": "code",
   "execution_count": 87,
   "metadata": {},
   "outputs": [
    {
     "data": {
      "text/html": [
       "<div>\n",
       "<style scoped>\n",
       "    .dataframe tbody tr th:only-of-type {\n",
       "        vertical-align: middle;\n",
       "    }\n",
       "\n",
       "    .dataframe tbody tr th {\n",
       "        vertical-align: top;\n",
       "    }\n",
       "\n",
       "    .dataframe thead th {\n",
       "        text-align: right;\n",
       "    }\n",
       "</style>\n",
       "<table border=\"1\" class=\"dataframe\">\n",
       "  <thead>\n",
       "    <tr style=\"text-align: right;\">\n",
       "      <th></th>\n",
       "      <th>NHG</th>\n",
       "      <th>NAG</th>\n",
       "      <th>NHY</th>\n",
       "      <th>NAY</th>\n",
       "      <th>NHR</th>\n",
       "      <th>NAR</th>\n",
       "    </tr>\n",
       "  </thead>\n",
       "  <tbody>\n",
       "    <tr>\n",
       "      <th>count</th>\n",
       "      <td>6840.000000</td>\n",
       "      <td>6840.000000</td>\n",
       "      <td>6840.000000</td>\n",
       "      <td>6840.000000</td>\n",
       "      <td>6840.000000</td>\n",
       "      <td>6840.000000</td>\n",
       "    </tr>\n",
       "    <tr>\n",
       "      <th>mean</th>\n",
       "      <td>1.534357</td>\n",
       "      <td>1.129825</td>\n",
       "      <td>1.378509</td>\n",
       "      <td>1.785088</td>\n",
       "      <td>0.066082</td>\n",
       "      <td>0.094883</td>\n",
       "    </tr>\n",
       "    <tr>\n",
       "      <th>std</th>\n",
       "      <td>1.216204</td>\n",
       "      <td>1.073053</td>\n",
       "      <td>1.156369</td>\n",
       "      <td>1.348917</td>\n",
       "      <td>0.257120</td>\n",
       "      <td>0.310517</td>\n",
       "    </tr>\n",
       "    <tr>\n",
       "      <th>min</th>\n",
       "      <td>0.000000</td>\n",
       "      <td>0.000000</td>\n",
       "      <td>0.000000</td>\n",
       "      <td>0.000000</td>\n",
       "      <td>0.000000</td>\n",
       "      <td>0.000000</td>\n",
       "    </tr>\n",
       "    <tr>\n",
       "      <th>25%</th>\n",
       "      <td>1.000000</td>\n",
       "      <td>0.000000</td>\n",
       "      <td>1.000000</td>\n",
       "      <td>1.000000</td>\n",
       "      <td>0.000000</td>\n",
       "      <td>0.000000</td>\n",
       "    </tr>\n",
       "    <tr>\n",
       "      <th>50%</th>\n",
       "      <td>1.000000</td>\n",
       "      <td>1.000000</td>\n",
       "      <td>1.000000</td>\n",
       "      <td>2.000000</td>\n",
       "      <td>0.000000</td>\n",
       "      <td>0.000000</td>\n",
       "    </tr>\n",
       "    <tr>\n",
       "      <th>75%</th>\n",
       "      <td>2.000000</td>\n",
       "      <td>2.000000</td>\n",
       "      <td>2.000000</td>\n",
       "      <td>3.000000</td>\n",
       "      <td>0.000000</td>\n",
       "      <td>0.000000</td>\n",
       "    </tr>\n",
       "    <tr>\n",
       "      <th>max</th>\n",
       "      <td>8.000000</td>\n",
       "      <td>8.000000</td>\n",
       "      <td>7.000000</td>\n",
       "      <td>9.000000</td>\n",
       "      <td>2.000000</td>\n",
       "      <td>3.000000</td>\n",
       "    </tr>\n",
       "  </tbody>\n",
       "</table>\n",
       "</div>"
      ],
      "text/plain": [
       "               NHG          NAG          NHY          NAY          NHR  \\\n",
       "count  6840.000000  6840.000000  6840.000000  6840.000000  6840.000000   \n",
       "mean      1.534357     1.129825     1.378509     1.785088     0.066082   \n",
       "std       1.216204     1.073053     1.156369     1.348917     0.257120   \n",
       "min       0.000000     0.000000     0.000000     0.000000     0.000000   \n",
       "25%       1.000000     0.000000     1.000000     1.000000     0.000000   \n",
       "50%       1.000000     1.000000     1.000000     2.000000     0.000000   \n",
       "75%       2.000000     2.000000     2.000000     3.000000     0.000000   \n",
       "max       8.000000     8.000000     7.000000     9.000000     2.000000   \n",
       "\n",
       "               NAR  \n",
       "count  6840.000000  \n",
       "mean      0.094883  \n",
       "std       0.310517  \n",
       "min       0.000000  \n",
       "25%       0.000000  \n",
       "50%       0.000000  \n",
       "75%       0.000000  \n",
       "max       3.000000  "
      ]
     },
     "execution_count": 87,
     "metadata": {},
     "output_type": "execute_result"
    }
   ],
   "source": [
    "# Stitching the newly generated dataframes into one dataset\n",
    "\n",
    "\n",
    "new_football_df = pd.concat([NHG, NAG, NHY, NAY, NHR, NAR], axis=1)\n",
    "\n",
    "#Adding nanmes to each column as for some reason the new dataset isnt taking the previous dataframe names. \n",
    "new_column_names = ['NHG', 'NAG', 'NHY', 'NAY', 'NHR', 'NAR']\n",
    "new_football_df.columns = new_column_names\n",
    "\n",
    "new_football_df.describe()\n",
    "\n"
   ]
  },
  {
   "cell_type": "markdown",
   "metadata": {},
   "source": [
    "# Comparison between Datasets"
   ]
  },
  {
   "cell_type": "code",
   "execution_count": 44,
   "metadata": {},
   "outputs": [
    {
     "data": {
      "text/plain": [
       "<function matplotlib.pyplot.show(close=None, block=None)>"
      ]
     },
     "execution_count": 44,
     "metadata": {},
     "output_type": "execute_result"
    },
    {
     "data": {
      "image/png": "[encoded data removed]",
      "text/plain": [
       "<Figure size 1000x800 with 4 Axes>"
      ]
     },
     "metadata": {},
     "output_type": "display_data"
    }
   ],
   "source": [
    "# Create a bar chart showing the number of goals scored home and away for both datasets\n",
    "\n",
    "fig, axis = plt.subplots(2, 2, figsize=(10, 8))\n",
    " \n",
    "\n",
    "# Original Dataset Barchart for goals scored\n",
    "axis[0, 0].bar('Home Goals', total_home_goals, label = 'Home Goals')\n",
    "axis[0, 0].bar('Away Goals', total_away_goals, label = 'Away Goals')\n",
    "axis[0, 0].set_ylabel(\"Number of Goals\")\n",
    "axis[0, 0].set_title(\"Original Dataset Goals Scored\") \n",
    "\n",
    "\n",
    "# Original Dataset Histogram for goals scored\n",
    "axis[0, 1].hist([home_goals, away_goals], 20, label = ['Home Team', 'Away Team'])\n",
    "axis[0, 1].set_xticks(range(0, 11))\n",
    "axis[0, 1].set_ylabel(\"Number of Games\")\n",
    "axis[0, 1].set_xlabel(\"Goals Scored\")\n",
    "axis[0, 1].set_title(\"Original Dataset Goals Scored\")\n",
    "axis[0, 1].legend()\n",
    "\n",
    "\n",
    "# New Dataset Barchart for goals scored\n",
    "axis[1, 0].bar('Home Goals', new_total_HG, label = 'Home Goals')\n",
    "axis[1, 0].bar('Away Goals', new_total_AG, label = 'Away Goals')\n",
    "axis[1, 0].set_ylabel(\"Number of Goals\")\n",
    "axis[1, 0].set_title(\"New Dataset Goals Scored\") \n",
    "\n",
    "\n",
    "# New Dataset Histogram for goals scored\n",
    "axis[1, 1].hist([hist_NHG, hist_NAG], 20, label = ['Home Team', 'Away Team'])\n",
    "axis[1, 1].set_xticks(range(0, 11))\n",
    "axis[1, 1].set_ylabel(\"Number of Games\")\n",
    "axis[1, 1].set_xlabel(\"Goals Scored\")\n",
    "axis[1, 1].set_title(\"New Dataset Goals Scored\")\n",
    "axis[1, 1].legend()\n",
    "\n",
    "\n",
    "plt.tight_layout()\n",
    "plt.show"
   ]
  },
  {
   "cell_type": "markdown",
   "metadata": {},
   "source": [
    "When comparing between both datasets I want to be able to refer to a variable value in Markdown. This does not seem to be enabled in Jupyter notebook from the research I have done. \n",
    "\n",
    "As a workaround I have imported markdown from the Ipython package.\n",
    "\n",
    "This allows you to turn a coded cell into Markdown and allows you to insert the value of variables."
   ]
  },
  {
   "cell_type": "code",
   "execution_count": 45,
   "metadata": {},
   "outputs": [],
   "source": [
    "from IPython.display import Markdown as md"
   ]
  },
  {
   "cell_type": "code",
   "execution_count": 53,
   "metadata": {},
   "outputs": [
    {
     "data": {
      "text/markdown": [
       "I plotted the barcharts and histograms for goals scored above with both the original and newly synthesised datasets side by side for ease of comparison.\n",
       "   \n",
       "While the values in new_df are different we can see they follow the same trends and distributions.\n",
       "\n",
       "In the original dataset (football_df) the home team scored 57% of all goals while the away team scored 42% \n",
       "\n",
       "While in my newly synthesised (new_df) the home team scored 57% of all goals and the away team score 42%\n",
       "\n",
       "Even with the newly generated data this relationship remains the same. \n",
       "\n"
      ],
      "text/plain": [
       "<IPython.core.display.Markdown object>"
      ]
     },
     "execution_count": 53,
     "metadata": {},
     "output_type": "execute_result"
    }
   ],
   "source": [
    "md(f\"\"\"I plotted the barcharts and histograms for goals scored above with both the original and newly synthesised datasets side by side for ease of comparison.\n",
    "   \n",
    "While the values in new_df are different we can see they follow the same trends and distributions.\n",
    "\n",
    "In the original dataset (football_df) the home team scored {percent_HG}% of all goals while the away team scored {percent_AG}% \n",
    "\n",
    "While in my newly synthesised (new_df) the home team scored {percent_NHG}% of all goals and the away team score {percent_NAG}%\n",
    "\n",
    "Even with the newly generated data this relationship remains the same. \n",
    "\n",
    "\"\"\")"
   ]
  },
  {
   "cell_type": "code",
   "execution_count": 62,
   "metadata": {},
   "outputs": [
    {
     "data": {
      "text/plain": [
       "<function matplotlib.pyplot.show(close=None, block=None)>"
      ]
     },
     "execution_count": 62,
     "metadata": {},
     "output_type": "execute_result"
    },
    {
     "data": {
      "image/png": "[encoded data removed]",
      "text/plain": [
       "<Figure size 1000x800 with 4 Axes>"
      ]
     },
     "metadata": {},
     "output_type": "display_data"
    }
   ],
   "source": [
    "# Create a bar chart showing the number of goals scored home and away for both datasets\n",
    "\n",
    "fig, axis = plt.subplots(2, 2, figsize=(10, 8))\n",
    " \n",
    "\n",
    "# Original Dataset Barchart for Yellow cards received\n",
    "axis[0, 0].bar('Home Yellows', total_home_yellow, label = 'Home Yellows')\n",
    "axis[0, 0].bar('Away Yellows', total_away_yellow, label = 'Away Yellows')\n",
    "axis[0, 0].set_ylabel(\"Number of Yellow Cards Received\")\n",
    "axis[0, 0].set_title(\"Original Dataset Yellow Cards Received\") \n",
    "\n",
    "\n",
    "# Original Dataset Histogram for Yellow cards received\n",
    "axis[0, 1].hist([home_y, away_y], 20, label = ['Home Team', 'Away Team'])\n",
    "axis[0, 1].set_xticks(range(0, 11))\n",
    "axis[0, 1].set_ylabel(\"Number of Games\")\n",
    "axis[0, 1].set_xlabel(\"The number of Yellow cards received in 1 game\")\n",
    "axis[0, 1].set_title(\"Original Dataset Yellow Cards Received\")\n",
    "axis[0, 1].legend()\n",
    "\n",
    "\n",
    "# New Dataset Barchart for Yellow cards received\n",
    "axis[1, 0].bar('Home Yellows', new_total_HY, label = 'Home Yellows')\n",
    "axis[1, 0].bar('Away Yellows', new_total_AY, label = 'Away Yellows')\n",
    "axis[1, 0].set_ylabel(\"Number of Yellow Cards Received\")\n",
    "axis[1, 0].set_title(\"New Dataset Yellow Cards Received\")\n",
    "\n",
    "\n",
    "# New Dataset Histogram for Yellow cards received\n",
    "axis[1, 1].hist([hist_NHY, hist_NAY], 20, label = ['Home Team', 'Away Team'])\n",
    "axis[1, 1].set_xticks(range(0, 11))\n",
    "axis[1, 1].set_ylabel(\"Number of Games\")\n",
    "axis[1, 1].set_xlabel(\"The number of Yellow cards received in 1 game\")\n",
    "axis[1, 1].set_title(\"New Dataset Yellow Cards Received\")\n",
    "axis[1, 1].legend()\n",
    "\n",
    "\n",
    "plt.tight_layout()\n",
    "plt.show"
   ]
  },
  {
   "cell_type": "markdown",
   "metadata": {},
   "source": [
    "References\n",
    "\n",
    "\"We now take a look at the mean and variance (the square of the standard deviation) of Man Utd’s scoring rate. We are hoping to see these two values to be equal, since we know that the mean and variance of a Poisson random variable are the same.\"\n",
    "\n",
    "https://bookdown.org/theqdata/honors_thesis/introduction.html\n",
    "https://data-dive.com/jupyterlab-markdown-cells-include-variables/\n",
    "https://www.geeksforgeeks.org/add-column-names-to-dataframe-in-pandas/\n",
    "https://www.datacamp.com/tutorial/joining-dataframes-pandas"
   ]
  },
  {
   "cell_type": "code",
   "execution_count": null,
   "metadata": {},
   "outputs": [],
   "source": [
    "from datetime import datetime, timedelta\n",
    "import random\n",
    "import pandas as pd\n",
    "\n",
    "# Define the start and end years for the seasons\n",
    "start_year = 2001\n",
    "end_year = 2018\n",
    "\n",
    "# Create an empty list to store all fixture dates\n",
    "all_fixtures = []\n",
    "\n",
    "# Loop through each season\n",
    "for year in range(start_year, end_year + 1):\n",
    "    # Define the start and end dates for each season\n",
    "    start_date = datetime(year, 8, 1)  # August 1st of the year\n",
    "    end_date = datetime(year + 1, 5, 31)  # May 31st of the following year\n",
    "\n",
    "    current_date = start_date\n",
    "    while current_date <= end_date:\n",
    "        if current_date.weekday() in [5, 6]:  # Saturday (5) or Sunday (6)\n",
    "            for _ in range(10):\n",
    "                all_fixtures.append(current_date)\n",
    "        \n",
    "        current_date += timedelta(days=1)\n",
    "\n",
    "\n",
    "# Create a DataFrame with all fixture dates\n",
    "df_fixtures = pd.DataFrame({'Fixture_Date': all_fixtures})\n",
    "\n",
    "# Display the first few rows of the DataFrame\n",
    "print(df_fixtures.head())"
   ]
  },
  {
   "cell_type": "markdown",
   "metadata": {},
   "source": [
    "## **END**"
   ]
  },
  {
   "cell_type": "markdown",
   "metadata": {},
   "source": []
  }
 ],
 "metadata": {
  "kernelspec": {
   "display_name": "Python 3 (ipykernel)",
   "language": "python",
   "name": "python3"
  },
  "language_info": {
   "codemirror_mode": {
    "name": "ipython",
    "version": 3
   },
   "file_extension": ".py",
   "mimetype": "text/x-python",
   "name": "python",
   "nbconvert_exporter": "python",
   "pygments_lexer": "ipython3",
   "version": "3.11.5"
  }
 },
 "nbformat": 4,
 "nbformat_minor": 5
}
